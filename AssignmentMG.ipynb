{
 "cells": [
  {
   "cell_type": "markdown",
   "id": "47cf5c87-2f13-4621-839b-834d28a4356a",
   "metadata": {},
   "source": [
    "# My Jupyter Notebook on IBM Watson Studio"
   ]
  },
  {
   "cell_type": "markdown",
   "id": "018eeb60-54dc-46b3-849f-3d8ca083d9a9",
   "metadata": {},
   "source": [
    "# Manjunath Gubbi\n",
    "My desired occupation would be working as a data analyst. "
   ]
  },
  {
   "cell_type": "markdown",
   "id": "fd19843b-f70d-41af-a356-f97d84b6900a",
   "metadata": {},
   "source": [
    "*I am passionate as a marketer about utilizing artificial intelligence to improve customer segmentation and the real-time personalization of offers to the customers.*"
   ]
  },
  {
   "cell_type": "markdown",
   "id": "463d07ec-004c-4378-9c04-05ff5d3b80ea",
   "metadata": {},
   "source": [
    "### Python code returns length of the string."
   ]
  },
  {
   "cell_type": "code",
   "execution_count": 1,
   "id": "4f1d0a77-2527-4bd0-8173-531f6b5ee3f4",
   "metadata": {},
   "outputs": [
    {
     "name": "stdout",
     "output_type": "stream",
     "text": [
      "13\n"
     ]
    }
   ],
   "source": [
    "a = \"Hello, World!\"\n",
    "print(len(a))"
   ]
  },
  {
   "cell_type": "markdown",
   "id": "708d527e-e7ce-4912-b716-7e7376ab50b6",
   "metadata": {},
   "source": [
    "* First Item\n",
    "* Second Item\n",
    "* Third Item\n",
    "| a       | b         |\n",
    "| :------ | ---------:|\n",
    "| c       |  d        |\n",
    "\n",
    "[Jupyter Book](https://jupyterbook.org)"
   ]
  },
  {
   "cell_type": "code",
   "execution_count": null,
   "id": "d653735c-c372-404e-b2ff-927fcd7f1088",
   "metadata": {},
   "outputs": [],
   "source": []
  }
 ],
 "metadata": {
  "kernelspec": {
   "display_name": "Python",
   "language": "python",
   "name": "conda-env-python-py"
  },
  "language_info": {
   "codemirror_mode": {
    "name": "ipython",
    "version": 3
   },
   "file_extension": ".py",
   "mimetype": "text/x-python",
   "name": "python",
   "nbconvert_exporter": "python",
   "pygments_lexer": "ipython3",
   "version": "3.7.12"
  }
 },
 "nbformat": 4,
 "nbformat_minor": 5
}
